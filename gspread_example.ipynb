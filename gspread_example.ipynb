{
 "cells": [
  {
   "cell_type": "markdown",
   "metadata": {
    "toc": true
   },
   "source": [
    "<h1>Table of Contents<span class=\"tocSkip\"></span></h1>\n",
    "<div class=\"toc\"><ul class=\"toc-item\"></ul></div>"
   ]
  },
  {
   "cell_type": "code",
   "execution_count": 1,
   "metadata": {
    "ExecuteTime": {
     "end_time": "2019-01-06T19:18:08.759618Z",
     "start_time": "2019-01-06T19:18:07.206545Z"
    }
   },
   "outputs": [],
   "source": [
    "import gspread\n",
    "from oauth2client.service_account import ServiceAccountCredentials\n",
    "import os\n",
    "import glob\n",
    "\n",
    "json_dir = os.path.expanduser('~') + '/bin/'\n",
    "gspread_json = glob.glob(json_dir + 'gspread*.json')[0]\n",
    "scope = ['https://spreadsheets.google.com/feeds',\n",
    "         'https://www.googleapis.com/auth/drive']\n",
    "credentials = ServiceAccountCredentials.from_json_keyfile_name(gspread_json, scope)\n",
    "gc = gspread.authorize(credentials)\n",
    "\n",
    "# read sheet\n",
    "wks = gc.open(\"keep_this\").sheet1\n",
    "vals = wks.get_all_values()"
   ]
  },
  {
   "cell_type": "code",
   "execution_count": 2,
   "metadata": {
    "ExecuteTime": {
     "end_time": "2019-01-06T19:18:11.927226Z",
     "start_time": "2019-01-06T19:18:08.764456Z"
    }
   },
   "outputs": [],
   "source": [
    "wks = gc.open(\"keep_this\").sheet1\n",
    "vals = wks.get_all_values()"
   ]
  },
  {
   "cell_type": "code",
   "execution_count": 4,
   "metadata": {
    "ExecuteTime": {
     "end_time": "2019-01-06T19:18:22.078183Z",
     "start_time": "2019-01-06T19:18:22.074867Z"
    }
   },
   "outputs": [
    {
     "name": "stdout",
     "output_type": "stream",
     "text": [
      "['acell', 'add_cols', 'add_rows', 'append_row', 'cell', 'clear', 'client', 'col_count', 'col_values', 'delete_row', 'duplicate', 'export', 'find', 'findall', 'get_all_records', 'get_all_values', 'id', 'insert_row', 'range', 'resize', 'row_count', 'row_values', 'spreadsheet', 'title', 'update_acell', 'update_cell', 'update_cells', 'update_title', 'updated']\n"
     ]
    }
   ],
   "source": [
    "print([ i for i in dir(wks) if not i.startswith('_')])"
   ]
  },
  {
   "cell_type": "code",
   "execution_count": 7,
   "metadata": {
    "ExecuteTime": {
     "end_time": "2019-01-06T19:18:53.257742Z",
     "start_time": "2019-01-06T19:18:52.636402Z"
    }
   },
   "outputs": [
    {
     "data": {
      "text/plain": [
       "[['date', '2019-01-06'],\n",
       " ['author', 'Bhishan Poudel'],\n",
       " ['Purpose', 'python usage']]"
      ]
     },
     "execution_count": 7,
     "metadata": {},
     "output_type": "execute_result"
    }
   ],
   "source": [
    "worksheet = gc.open(\"keep_this\").get_worksheet(0)\n",
    "worksheet.get_all_values()"
   ]
  },
  {
   "cell_type": "code",
   "execution_count": 8,
   "metadata": {
    "ExecuteTime": {
     "end_time": "2019-01-06T19:19:18.387450Z",
     "start_time": "2019-01-06T19:19:15.627426Z"
    }
   },
   "outputs": [
    {
     "data": {
      "text/plain": [
       "'2019-01-06'"
      ]
     },
     "execution_count": 8,
     "metadata": {},
     "output_type": "execute_result"
    }
   ],
   "source": [
    "wks.cell(1, 2).value"
   ]
  },
  {
   "cell_type": "code",
   "execution_count": 9,
   "metadata": {
    "ExecuteTime": {
     "end_time": "2019-01-06T19:19:19.356525Z",
     "start_time": "2019-01-06T19:19:19.203597Z"
    }
   },
   "outputs": [
    {
     "data": {
      "text/plain": [
       "<Cell R2C1 'author'>"
      ]
     },
     "execution_count": 9,
     "metadata": {},
     "output_type": "execute_result"
    }
   ],
   "source": [
    "wks.find(\"author\")"
   ]
  },
  {
   "cell_type": "code",
   "execution_count": null,
   "metadata": {},
   "outputs": [],
   "source": []
  }
 ],
 "metadata": {
  "kernelspec": {
   "display_name": "Python (dataSc)",
   "language": "python",
   "name": "datasc"
  },
  "language_info": {
   "codemirror_mode": {
    "name": "ipython",
    "version": 3
   },
   "file_extension": ".py",
   "mimetype": "text/x-python",
   "name": "python",
   "nbconvert_exporter": "python",
   "pygments_lexer": "ipython3",
   "version": "3.7.0"
  },
  "toc": {
   "base_numbering": 1,
   "nav_menu": {},
   "number_sections": true,
   "sideBar": true,
   "skip_h1_title": false,
   "title_cell": "Table of Contents",
   "title_sidebar": "Contents",
   "toc_cell": true,
   "toc_position": {},
   "toc_section_display": true,
   "toc_window_display": true
  }
 },
 "nbformat": 4,
 "nbformat_minor": 2
}
